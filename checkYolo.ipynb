{
 "cells": [
  {
   "cell_type": "code",
   "execution_count": 2,
   "id": "ddac8e63-2702-4b65-a062-3bb949a5ac38",
   "metadata": {},
   "outputs": [],
   "source": [
    "import pandas as pd\n",
    "import tensorflow as tf\n",
    "tf.random.set_seed(101)\n",
    "from keras_preprocessing.image import ImageDataGenerator\n",
    "from efficientnet.tfkeras import EfficientNetB0\n",
    "from tensorflow.keras.models import Sequential\n",
    "from tensorflow.keras.layers import Dense, GlobalAveragePooling2D\n",
    "from sklearn.metrics import roc_auc_score, accuracy_score"
   ]
  },
  {
   "cell_type": "code",
   "execution_count": 3,
   "id": "35a24c2f-92bd-46e4-bfbb-06a530081eb2",
   "metadata": {},
   "outputs": [
    {
     "name": "stdout",
     "output_type": "stream",
     "text": [
      "hello world\n"
     ]
    }
   ],
   "source": [
    "print('hello world')"
   ]
  },
  {
   "cell_type": "code",
   "execution_count": 11,
   "id": "1944666a-ebee-4165-9a82-abcff65af968",
   "metadata": {},
   "outputs": [],
   "source": [
    "data = pd.read_csv('/Users/polinanazarova/Desktop/hack_10_2024/train_data/defects.csv', delimiter=';')"
   ]
  },
  {
   "cell_type": "code",
   "execution_count": 12,
   "id": "1b471d1a-d705-4339-b84f-e6fec7834c36",
   "metadata": {},
   "outputs": [
    {
     "data": {
      "text/html": [
       "<div>\n",
       "<style scoped>\n",
       "    .dataframe tbody tr th:only-of-type {\n",
       "        vertical-align: middle;\n",
       "    }\n",
       "\n",
       "    .dataframe tbody tr th {\n",
       "        vertical-align: top;\n",
       "    }\n",
       "\n",
       "    .dataframe thead th {\n",
       "        text-align: right;\n",
       "    }\n",
       "</style>\n",
       "<table border=\"1\" class=\"dataframe\">\n",
       "  <thead>\n",
       "    <tr style=\"text-align: right;\">\n",
       "      <th></th>\n",
       "      <th>main_class</th>\n",
       "      <th>additional_class</th>\n",
       "      <th>filename</th>\n",
       "      <th>x_left_bottom</th>\n",
       "      <th>y_left_bottom</th>\n",
       "      <th>length</th>\n",
       "      <th>width</th>\n",
       "    </tr>\n",
       "  </thead>\n",
       "  <tbody>\n",
       "    <tr>\n",
       "      <th>0</th>\n",
       "      <td>царапины</td>\n",
       "      <td>Царапина на задней панели</td>\n",
       "      <td>2023-12-26 15-38-08.jpg</td>\n",
       "      <td>965.0</td>\n",
       "      <td>3075.0</td>\n",
       "      <td>637.0</td>\n",
       "      <td>1405.0</td>\n",
       "    </tr>\n",
       "    <tr>\n",
       "      <th>1</th>\n",
       "      <td>царапины</td>\n",
       "      <td>Царапина на задней панели</td>\n",
       "      <td>2024-01-15 13-40-28.jpg</td>\n",
       "      <td>885.0</td>\n",
       "      <td>1987.0</td>\n",
       "      <td>345.0</td>\n",
       "      <td>270.0</td>\n",
       "    </tr>\n",
       "    <tr>\n",
       "      <th>2</th>\n",
       "      <td>царапины</td>\n",
       "      <td>Царапина на задней панели</td>\n",
       "      <td>2024-01-15 13-42-01.jpg</td>\n",
       "      <td>989.0</td>\n",
       "      <td>2664.0</td>\n",
       "      <td>291.0</td>\n",
       "      <td>549.0</td>\n",
       "    </tr>\n",
       "    <tr>\n",
       "      <th>3</th>\n",
       "      <td>царапины</td>\n",
       "      <td>Царапина на задней панели</td>\n",
       "      <td>2024-01-15 13-50-51.jpg</td>\n",
       "      <td>1497.0</td>\n",
       "      <td>2797.0</td>\n",
       "      <td>345.0</td>\n",
       "      <td>489.0</td>\n",
       "    </tr>\n",
       "    <tr>\n",
       "      <th>4</th>\n",
       "      <td>царапины</td>\n",
       "      <td>Царапина на задней панели</td>\n",
       "      <td>2024-01-15 14-34-26.jpg</td>\n",
       "      <td>1145.0</td>\n",
       "      <td>2844.0</td>\n",
       "      <td>403.0</td>\n",
       "      <td>589.0</td>\n",
       "    </tr>\n",
       "  </tbody>\n",
       "</table>\n",
       "</div>"
      ],
      "text/plain": [
       "  main_class           additional_class                 filename  \\\n",
       "0   царапины  Царапина на задней панели  2023-12-26 15-38-08.jpg   \n",
       "1   царапины  Царапина на задней панели  2024-01-15 13-40-28.jpg   \n",
       "2   царапины  Царапина на задней панели  2024-01-15 13-42-01.jpg   \n",
       "3   царапины  Царапина на задней панели  2024-01-15 13-50-51.jpg   \n",
       "4   царапины  Царапина на задней панели  2024-01-15 14-34-26.jpg   \n",
       "\n",
       "   x_left_bottom  y_left_bottom  length   width  \n",
       "0          965.0         3075.0   637.0  1405.0  \n",
       "1          885.0         1987.0   345.0   270.0  \n",
       "2          989.0         2664.0   291.0   549.0  \n",
       "3         1497.0         2797.0   345.0   489.0  \n",
       "4         1145.0         2844.0   403.0   589.0  "
      ]
     },
     "execution_count": 12,
     "metadata": {},
     "output_type": "execute_result"
    }
   ],
   "source": [
    "data.head()"
   ]
  },
  {
   "cell_type": "code",
   "execution_count": 14,
   "id": "29fe114c-cfff-4722-a8ab-f4187d59a5ea",
   "metadata": {},
   "outputs": [],
   "source": [
    "train_datagen = ImageDataGenerator(\n",
    "        rescale=1./255,\n",
    "        zoom_range=(0.8,1),\n",
    "        horizontal_flip=True,\n",
    "        vertical_flip=True\n",
    "        )\n",
    "val_datagen = ImageDataGenerator(\n",
    "        rescale=1./255\n",
    "        )"
   ]
  },
  {
   "cell_type": "code",
   "execution_count": 15,
   "id": "959dfe6a-b1bf-4253-ad3e-5818c2d6fc2b",
   "metadata": {},
   "outputs": [],
   "source": [
    "import numpy as np\n",
    "from sklearn.model_selection import train_test_split"
   ]
  },
  {
   "cell_type": "code",
   "execution_count": 29,
   "id": "1e5b6b86-62aa-460a-9f1e-cc3b0daf967c",
   "metadata": {},
   "outputs": [
    {
     "data": {
      "text/plain": [
       "104"
      ]
     },
     "execution_count": 29,
     "metadata": {},
     "output_type": "execute_result"
    }
   ],
   "source": [
    "data['main_class'].isna().sum()"
   ]
  },
  {
   "cell_type": "code",
   "execution_count": 31,
   "id": "43324840-d044-4ef5-af59-dd9bdb3fbff6",
   "metadata": {},
   "outputs": [
    {
     "data": {
      "text/plain": [
       "0      False\n",
       "1      False\n",
       "2      False\n",
       "3      False\n",
       "4      False\n",
       "       ...  \n",
       "187     True\n",
       "188     True\n",
       "189     True\n",
       "190     True\n",
       "191     True\n",
       "Name: main_class, Length: 192, dtype: bool"
      ]
     },
     "execution_count": 31,
     "metadata": {},
     "output_type": "execute_result"
    }
   ],
   "source": [
    "data['main_class'].isna()"
   ]
  },
  {
   "cell_type": "code",
   "execution_count": 30,
   "id": "a036f643-3477-492b-9641-1da076d9fa3b",
   "metadata": {},
   "outputs": [
    {
     "data": {
      "text/plain": [
       "192"
      ]
     },
     "execution_count": 30,
     "metadata": {},
     "output_type": "execute_result"
    }
   ],
   "source": [
    "len(data['main_class'])"
   ]
  },
  {
   "cell_type": "code",
   "execution_count": 40,
   "id": "43908d0b-0fe0-4fa6-8043-aded5f68beb7",
   "metadata": {},
   "outputs": [
    {
     "data": {
      "text/plain": [
       "{nan,\n",
       " 'битые пиксели',\n",
       " 'замок',\n",
       " 'отсутствует шуруп',\n",
       " 'проблемы с клавишами',\n",
       " 'сколы',\n",
       " 'царапины'}"
      ]
     },
     "execution_count": 40,
     "metadata": {},
     "output_type": "execute_result"
    }
   ],
   "source": [
    "set(data['main_class'])"
   ]
  },
  {
   "cell_type": "code",
   "execution_count": 44,
   "id": "fbc9ca77-1d81-43a7-a3d5-da7cec57d7a5",
   "metadata": {},
   "outputs": [],
   "source": [
    "labels = ['битые пиксели',\n",
    "          'замок',\n",
    "          'отсутствует шуруп',\n",
    "          'проблемы с клавишами',\n",
    "          'сколы',\n",
    "          'царапины']"
   ]
  },
  {
   "cell_type": "code",
   "execution_count": 59,
   "id": "61f4b146-7f60-42bd-a983-6f349cc3fbb5",
   "metadata": {
    "scrolled": true
   },
   "outputs": [
    {
     "data": {
      "text/html": [
       "<div>\n",
       "<style scoped>\n",
       "    .dataframe tbody tr th:only-of-type {\n",
       "        vertical-align: middle;\n",
       "    }\n",
       "\n",
       "    .dataframe tbody tr th {\n",
       "        vertical-align: top;\n",
       "    }\n",
       "\n",
       "    .dataframe thead th {\n",
       "        text-align: right;\n",
       "    }\n",
       "</style>\n",
       "<table border=\"1\" class=\"dataframe\">\n",
       "  <thead>\n",
       "    <tr style=\"text-align: right;\">\n",
       "      <th></th>\n",
       "      <th>class</th>\n",
       "      <th>filename</th>\n",
       "    </tr>\n",
       "  </thead>\n",
       "  <tbody>\n",
       "    <tr>\n",
       "      <th>0</th>\n",
       "      <td>царапины</td>\n",
       "      <td>2023-12-26 15-38-08.jpg</td>\n",
       "    </tr>\n",
       "    <tr>\n",
       "      <th>1</th>\n",
       "      <td>царапины</td>\n",
       "      <td>2024-01-15 13-40-28.jpg</td>\n",
       "    </tr>\n",
       "    <tr>\n",
       "      <th>2</th>\n",
       "      <td>царапины</td>\n",
       "      <td>2024-01-15 13-42-01.jpg</td>\n",
       "    </tr>\n",
       "    <tr>\n",
       "      <th>3</th>\n",
       "      <td>царапины</td>\n",
       "      <td>2024-01-15 13-50-51.jpg</td>\n",
       "    </tr>\n",
       "    <tr>\n",
       "      <th>4</th>\n",
       "      <td>царапины</td>\n",
       "      <td>2024-01-15 14-34-26.jpg</td>\n",
       "    </tr>\n",
       "  </tbody>\n",
       "</table>\n",
       "</div>"
      ],
      "text/plain": [
       "      class                 filename\n",
       "0  царапины  2023-12-26 15-38-08.jpg\n",
       "1  царапины  2024-01-15 13-40-28.jpg\n",
       "2  царапины  2024-01-15 13-42-01.jpg\n",
       "3  царапины  2024-01-15 13-50-51.jpg\n",
       "4  царапины  2024-01-15 14-34-26.jpg"
      ]
     },
     "execution_count": 59,
     "metadata": {},
     "output_type": "execute_result"
    }
   ],
   "source": [
    "labeled_data = []\n",
    "\n",
    "for i in range(len(data['main_class'])):\n",
    "    if not data['main_class'].isna()[i]:\n",
    "        labeled_data.append((data['main_class'][i], data['filename'][i]))\n",
    "\n",
    "X = pd.DataFrame(labeled_data, columns=['class', 'filename'])\n",
    "\n",
    "X.head()"
   ]
  },
  {
   "cell_type": "code",
   "execution_count": null,
   "id": "45b8a6b2-216e-4ffe-ab68-687d3e7a4d3a",
   "metadata": {},
   "outputs": [],
   "source": []
  },
  {
   "cell_type": "code",
   "execution_count": 60,
   "id": "654a247d-f387-4f00-b713-5fa7ba3cf14e",
   "metadata": {},
   "outputs": [],
   "source": [
    "train, test, _, _ = train_test_split(X, X, test_size=0.1, random_state=42)"
   ]
  },
  {
   "cell_type": "code",
   "execution_count": 61,
   "id": "8862a43e-f977-4357-8b12-d4ac03cdb8e2",
   "metadata": {},
   "outputs": [
    {
     "data": {
      "text/plain": [
       "(88, 79, 9)"
      ]
     },
     "execution_count": 61,
     "metadata": {},
     "output_type": "execute_result"
    }
   ],
   "source": [
    "len(labeled_data), len(train), len(test)"
   ]
  },
  {
   "cell_type": "markdown",
   "id": "25e5f15c-ccf5-4051-bdfb-8e9e3a8b7f42",
   "metadata": {},
   "source": [
    "dataframe: The source dataframe (in our case, the train and val dataframes created earlier)\n",
    "\n",
    "directory: The location of our images relative to the current working directory\n",
    "\n",
    "x_col: The column name in our dataframe where the image filenames are stored\n",
    "\n",
    "y_col: The column name in our dataframe where the target is stored\n",
    "\n",
    "target_size: What dimensions we'd like our images resizing to batch_size\n",
    "\n",
    "class_mode: Our task is binary classification and so we can use the binary mode"
   ]
  },
  {
   "cell_type": "code",
   "execution_count": 64,
   "id": "58ba071c-cb70-4bb4-820a-826828983089",
   "metadata": {},
   "outputs": [
    {
     "name": "stdout",
     "output_type": "stream",
     "text": [
      "Found 79 validated image filenames belonging to 6 classes.\n",
      "Found 9 validated image filenames belonging to 4 classes.\n"
     ]
    }
   ],
   "source": [
    "IMG_DIM = 224\n",
    "BATCH_SIZE = 64\n",
    "\n",
    "train_generator = train_datagen.flow_from_dataframe(train, \n",
    "                                                    directory='/Users/polinanazarova/Desktop/hack_10_2024/train_data/data', \n",
    "                                                    x_col='filename', \n",
    "                                                    y_col='class',\n",
    "                                                    target_size=(IMG_DIM , IMG_DIM ),\n",
    "                                                    batch_size=BATCH_SIZE ,\n",
    "                                                    class_mode='sparse')\n",
    "val_generator = val_datagen.flow_from_dataframe(test, \n",
    "                                                directory='/Users/polinanazarova/Desktop/hack_10_2024/train_data/data', \n",
    "                                                x_col='filename', \n",
    "                                                y_col='class',\n",
    "                                                shuffle=False,\n",
    "                                                target_size=(IMG_DIM ,IMG_DIM ),\n",
    "                                                batch_size=BATCH_SIZE ,\n",
    "                                                class_mode='sparse')"
   ]
  },
  {
   "cell_type": "code",
   "execution_count": 84,
   "id": "3f879b35-a8c5-47ac-b326-b0f6885ad373",
   "metadata": {},
   "outputs": [],
   "source": [
    "base_model = EfficientNetB0(input_shape=(IMG_DIM , IMG_DIM ,3),\n",
    "                                             include_top=False)\n",
    "\n",
    "base_model.trainable = False\n",
    "\n",
    "model = Sequential(\n",
    "        [base_model,\n",
    "        GlobalAveragePooling2D(),\n",
    "        Dense(128, activation='relu'), \n",
    "        Dense(len(labels), activation='sigmoid')]\n",
    "        )"
   ]
  },
  {
   "cell_type": "code",
   "execution_count": 85,
   "id": "ffd3216e-ce01-4973-bbdb-cf8452b6a0c5",
   "metadata": {},
   "outputs": [
    {
     "name": "stderr",
     "output_type": "stream",
     "text": [
      "WARNING:absl:At this time, the v2.11+ optimizer `tf.keras.optimizers.Adam` runs slowly on M1/M2 Macs, please use the legacy Keras optimizer instead, located at `tf.keras.optimizers.legacy.Adam`.\n",
      "WARNING:absl:There is a known slowdown when using v2.11+ Keras optimizers on M1/M2 Macs. Falling back to the legacy Keras optimizer, i.e., `tf.keras.optimizers.legacy.Adam`.\n"
     ]
    },
    {
     "name": "stdout",
     "output_type": "stream",
     "text": [
      "Epoch 1/5\n",
      "1/1 [==============================] - 9s 9s/step - loss: 5.8660 - accuracy: 0.1250\n",
      "Epoch 2/5\n",
      "1/1 [==============================] - 2s 2s/step - loss: 6.2118 - accuracy: 0.0000e+00\n",
      "Epoch 3/5\n",
      "1/1 [==============================] - 5s 5s/step - loss: 4.2763 - accuracy: 0.1094\n",
      "Epoch 4/5\n",
      "1/1 [==============================] - 1s 1s/step - loss: 5.0523 - accuracy: 0.1333\n",
      "Epoch 5/5\n",
      "1/1 [==============================] - 5s 5s/step - loss: 4.3801 - accuracy: 0.2031\n"
     ]
    }
   ],
   "source": [
    "model.compile(optimizer = tf.keras.optimizers.Adam(0.001),\n",
    "              loss = 'mse',\n",
    "              metrics='accuracy')\n",
    "\n",
    "STEP_SIZE_TRAIN=train_generator.n//train_generator.batch_size\n",
    "\n",
    "history = model.fit(train_generator,\n",
    "                    steps_per_epoch=STEP_SIZE_TRAIN,\n",
    "                    epochs=5)\n",
    " "
   ]
  },
  {
   "cell_type": "code",
   "execution_count": 87,
   "id": "b154e203-c22b-42c2-9f7f-1476fe2f521d",
   "metadata": {},
   "outputs": [
    {
     "name": "stdout",
     "output_type": "stream",
     "text": [
      "1/1 [==============================] - 0s 38ms/step\n"
     ]
    }
   ],
   "source": [
    "from keras.preprocessing.image import load_img, img_to_array, ImageDataGenerator\n",
    "from keras.applications.vgg16 import preprocess_input\n",
    "\n",
    "#load the image\n",
    "my_image = load_img('/Users/polinanazarova/Desktop/hack_10_2024/train_data/data/2023-12-26 15-16-46.jpg', target_size=(IMG_DIM, IMG_DIM))\n",
    "\n",
    "#preprocess the image\n",
    "my_image = img_to_array(my_image)\n",
    "my_image = my_image.reshape((1, my_image.shape[0], my_image.shape[1], my_image.shape[2]))\n",
    "my_image = preprocess_input(my_image)\n",
    "\n",
    "#make the prediction\n",
    "prediction = model.predict(my_image)"
   ]
  },
  {
   "cell_type": "code",
   "execution_count": 90,
   "id": "f4792cd7-56f6-4cbe-85d2-ea66126b82ec",
   "metadata": {},
   "outputs": [
    {
     "data": {
      "text/plain": [
       "'проблемы с клавишами'"
      ]
     },
     "execution_count": 90,
     "metadata": {},
     "output_type": "execute_result"
    }
   ],
   "source": [
    "labels[np.argmax([np.round(x) for x in prediction])]"
   ]
  },
  {
   "cell_type": "code",
   "execution_count": null,
   "id": "d66e986a-a7a9-4714-bc43-f3ef0a2da213",
   "metadata": {},
   "outputs": [],
   "source": []
  },
  {
   "cell_type": "code",
   "execution_count": null,
   "id": "831bdb55-daea-453f-ab2e-b5a8fb71756d",
   "metadata": {},
   "outputs": [],
   "source": []
  },
  {
   "cell_type": "code",
   "execution_count": null,
   "id": "cacb9be9-5713-45a5-8c27-919f1c2222d0",
   "metadata": {},
   "outputs": [],
   "source": []
  },
  {
   "cell_type": "code",
   "execution_count": null,
   "id": "27b308b1-4dd3-4442-b5fb-1f54c1a8cfc2",
   "metadata": {},
   "outputs": [],
   "source": []
  }
 ],
 "metadata": {
  "kernelspec": {
   "display_name": "Python 3 (ipykernel)",
   "language": "python",
   "name": "python3"
  },
  "language_info": {
   "codemirror_mode": {
    "name": "ipython",
    "version": 3
   },
   "file_extension": ".py",
   "mimetype": "text/x-python",
   "name": "python",
   "nbconvert_exporter": "python",
   "pygments_lexer": "ipython3",
   "version": "3.8.20"
  }
 },
 "nbformat": 4,
 "nbformat_minor": 5
}
